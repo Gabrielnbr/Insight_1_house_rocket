{
 "cells": [
  {
   "cell_type": "markdown",
   "metadata": {},
   "source": [
    "# 0.1 Imports\n",
    "import pandas   as pd\n",
    "import numpy    as np\n",
    "import streamlit as st\n",
    "import plotly   as pl"
   ]
  },
  {
   "cell_type": "markdown",
   "metadata": {},
   "source": []
  }
 ],
 "metadata": {
  "language_info": {
   "name": "python"
  },
  "orig_nbformat": 4
 },
 "nbformat": 4,
 "nbformat_minor": 2
}
